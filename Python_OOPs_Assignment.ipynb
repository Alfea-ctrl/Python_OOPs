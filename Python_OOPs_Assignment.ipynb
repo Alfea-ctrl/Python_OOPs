{
  "nbformat": 4,
  "nbformat_minor": 0,
  "metadata": {
    "colab": {
      "provenance": []
    },
    "kernelspec": {
      "name": "python3",
      "display_name": "Python 3"
    },
    "language_info": {
      "name": "python"
    }
  },
  "cells": [
    {
      "cell_type": "markdown",
      "source": [
        "1. What is Object-Oriented Programming (OOP)?\n",
        "\n",
        "  OOP is a way of writing programs where I organize the code using classes and objects. It helps to keep the code clean, reusable, and easier to manage. Objects basically represent real-world things with their own data and behavior.\n",
        "\n",
        "2. What is a class in OOP?\n",
        "\n",
        "  A class is like a blueprint or a template that defines what an object should have — like its variables and functions.\n",
        "\n",
        "3. What is an object in OOP?\n",
        "\n",
        "  An object is just an instance of a class. It’s the actual thing that I can use in my code, based on the class definition.\n",
        "\n",
        "4. What is the difference between abstraction and encapsulation?\n",
        "\n",
        "  Abstraction means hiding the unnecessary details and showing only what’s important.\n",
        "  Encapsulation means keeping data and methods together and restricting direct access to some parts of the code.\n",
        "\n",
        "5.  What are dunder methods in Python?\n",
        "\n",
        "  Dunder methods are special methods in Python that start and end with double underscores, like __init__ or __str__. They let me customize how objects behave in certain situations.\n",
        "\n",
        "6. Explain the concept of inheritance in OOP.\n",
        "\n",
        "  Inheritance lets a class reuse the code of another class. The child class can use or even override the parent class’s methods and variables.\n",
        "\n",
        "7. What is polymorphism in OOP?\n",
        "\n",
        "  Polymorphism means the same method name can work differently depending on which object is calling it. It makes the code more flexible.\n",
        "\n",
        "8. How is encapsulation achieved in Python?\n",
        "\n",
        "  In Python, I achieve encapsulation by making variables private (by adding an underscore) and then using getter and setter methods to access or change them safely.\n",
        "\n",
        "9.  What is a constructor in Python?\n",
        "\n",
        "  A constructor is a special method called __init__ that runs automatically when I create a new object. I use it to set up the object’s data.\n",
        "\n",
        "10. What are class and static methods in Python?\n",
        "\n",
        "  A class method works with the class itself and takes cls as the first argument.\n",
        "  A static method doesn’t need self or cls and just does a task that’s related to the class but doesn’t need access to its data.\n",
        "\n",
        "11. What is method overloading in Python?\n",
        "\n",
        "  Python doesn’t directly support method overloading, but I can fake it by giving default arguments or checking arguments inside the method.\n",
        "\n",
        "12.  What is method overriding in OOP?\n",
        "\n",
        "  Method overriding happens when the child class writes its own version of a method that already exists in the parent class.\n",
        "\n",
        "13.  What is a property decorator in Python?\n",
        "\n",
        "  The @property decorator lets me use a method like a variable. It’s useful for controlling access to private variables while still writing clean code.\n",
        "\n",
        "14.  Why is polymorphism important in OOP?\n",
        "\n",
        "  Polymorphism is important because it makes my code work with different types of objects using the same interface. This makes the program more flexible and easier to extend.\n",
        "\n",
        "15.  What is an abstract class in Python?\n",
        "\n",
        "  An abstract class is a class that I can’t directly create objects from. It can have some methods defined and some that are just declared, which the child classes must implement.\n",
        "\n",
        "16.What are the advantages of OOP?\n",
        "  Makes code reusable\n",
        "  Easy to maintain and organize\n",
        "  Better at representing real-world problems\n",
        "  Supports flexibility through polymorphism\n",
        "\n",
        "17. What is the difference between a class variable and an instance variable?\n",
        "\n",
        "  A class variable is shared by all objects of the class, while an instance variable is unique to each object.\n",
        "\n",
        "18.  What is multiple inheritance in Python?\n",
        "\n",
        "  Multiple inheritance means a class can inherit from more than one parent class at the same time. Python supports this.\n",
        "\n",
        "19.  Explain the purpose of __str__ and __repr__ methods in Python.\n",
        "\n",
        "  __str__ defines how an object looks when I print it — it’s for humans.\n",
        "__repr__ is meant for developers and usually shows a more detailed or unambiguous string of the object.\n",
        "\n",
        "20.  What is the significance of super() in Python?\n",
        "\n",
        "  I use super() to call methods of the parent class without having to write the parent class name explicitly. It’s helpful when working with inheritance.\n",
        "\n",
        "21.  What is the significance of the __del__ method in Python?\n",
        "\n",
        "  __del__ is called when an object is about to be deleted. I can use it to clean up things like files or connections.\n",
        "\n",
        "22.  What is the difference between @staticmethod and @classmethod in Python?\n",
        "\n",
        "  A static method doesn’t need any reference to the class or object.\n",
        "A class method takes the class as a parameter and can change class-level data.\n",
        "\n",
        "23. How does polymorphism work in Python with inheritance?\n",
        "\n",
        "  In Python, when I override methods in a child class, and then call them using a parent class reference, the child’s version is called. That’s how polymorphism works with inheritance.\n",
        "\n",
        "24. What is method chaining in Python OOP?\n",
        "\n",
        "  Method chaining is when I call multiple methods on the same object in a single line. It works when each method returns self so the next method can be called.\n",
        "\n",
        "25. What is the purpose of the __call__ method in Python?\n",
        "\n",
        "  The __call__ method in Python allows an object to be called like a function. If I define __call__ inside a class, then I can use an object of that class with parentheses, and it will execute the  __call__ method.\n",
        "  It’s useful when I want to make an object behave like a function.\n"
      ],
      "metadata": {
        "id": "39IfhkwHc3V2"
      }
    },
    {
      "cell_type": "code",
      "source": [
        "# 1. Create a parent class Animal with a method speak() that prints a generic message.\n",
        "#    Create a child class Dog that overrides the speak() method to print \"Bark!\".\n",
        "class Animal:\n",
        "    def speak(self):\n",
        "        print(\"Some generic animal sound\")\n",
        "\n",
        "class Dog(Animal):\n",
        "    def speak(self):\n",
        "        print(\"Bark!\")\n",
        "\n",
        "a = Animal()\n",
        "a.speak()  # Output: Some generic animal sound\n",
        "\n",
        "d = Dog()\n",
        "d.speak()  # Output: Bark!\n"
      ],
      "metadata": {
        "colab": {
          "base_uri": "https://localhost:8080/"
        },
        "id": "l3QBJRhhgVJE",
        "outputId": "398035ff-ab3b-489c-e10b-742378e4b95c"
      },
      "execution_count": 1,
      "outputs": [
        {
          "output_type": "stream",
          "name": "stdout",
          "text": [
            "Some generic animal sound\n",
            "Bark!\n"
          ]
        }
      ]
    },
    {
      "cell_type": "code",
      "source": [
        "# 2. Write a program to create an abstract class Shape with a method area().\n",
        "#    Derive classes Circle and Rectangle from it and implement the area() method in both.\n",
        "from abc import ABC, abstractmethod\n",
        "\n",
        "class Shape(ABC):\n",
        "    @abstractmethod\n",
        "    def area(self):\n",
        "        pass\n",
        "\n",
        "class Circle(Shape):\n",
        "    def __init__(self, radius):\n",
        "        self.radius = radius\n",
        "\n",
        "    def area(self):\n",
        "        return 3.14 * self.radius * self.radius\n",
        "\n",
        "class Rectangle(Shape):\n",
        "    def __init__(self, length, width):\n",
        "        self.length = length\n",
        "        self.width = width\n",
        "\n",
        "    def area(self):\n",
        "        return self.length * self.width\n",
        "\n",
        "c = Circle(5)\n",
        "print(c.area())  # Output: 78.5\n",
        "\n",
        "r = Rectangle(4, 6)\n",
        "print(r.area())  # Output: 24\n"
      ],
      "metadata": {
        "colab": {
          "base_uri": "https://localhost:8080/"
        },
        "id": "yWR-Rs_0hBEK",
        "outputId": "a52a3beb-1648-4e6f-931f-cc72a707b4b7"
      },
      "execution_count": 2,
      "outputs": [
        {
          "output_type": "stream",
          "name": "stdout",
          "text": [
            "78.5\n",
            "24\n"
          ]
        }
      ]
    },
    {
      "cell_type": "code",
      "source": [
        "# 3. Implement a multi-level inheritance scenario where a class Vehicle has an attribute type.\n",
        "#    Derive a class Car and further derive a class ElectricCar that adds a battery attribute.\n",
        "class Vehicle:\n",
        "    def __init__(self, type_):\n",
        "        self.type = type_\n",
        "\n",
        "class Car(Vehicle):\n",
        "    def __init__(self, type_, brand):\n",
        "        super().__init__(type_)\n",
        "        self.brand = brand\n",
        "\n",
        "class ElectricCar(Car):\n",
        "    def __init__(self, type_, brand, battery):\n",
        "        super().__init__(type_, brand)\n",
        "        self.battery = battery\n",
        "\n",
        "ec = ElectricCar(\"Four-wheeler\", \"Tesla\", \"75 kWh\")\n",
        "print(ec.type, ec.brand, ec.battery)\n",
        "# Output: Four-wheeler Tesla 75 kWh\n"
      ],
      "metadata": {
        "colab": {
          "base_uri": "https://localhost:8080/"
        },
        "id": "P-cTgjfZhGw_",
        "outputId": "54572ae5-0d47-4346-da8e-9d7730c8fa96"
      },
      "execution_count": 3,
      "outputs": [
        {
          "output_type": "stream",
          "name": "stdout",
          "text": [
            "Four-wheeler Tesla 75 kWh\n"
          ]
        }
      ]
    },
    {
      "cell_type": "code",
      "source": [
        "# 4. Demonstrate polymorphism by creating a base class Bird with a method fly().\n",
        "#    Create two derived classes Sparrow and Penguin that override the fly() method.\n",
        "class Bird:\n",
        "    def fly(self):\n",
        "        print(\"Bird is flying\")\n",
        "\n",
        "class Sparrow(Bird):\n",
        "    def fly(self):\n",
        "        print(\"Sparrow flies high\")\n",
        "\n",
        "class Penguin(Bird):\n",
        "    def fly(self):\n",
        "        print(\"Penguin cannot fly\")\n",
        "\n",
        "b = Bird()\n",
        "b.fly()  # Bird is flying\n",
        "\n",
        "s = Sparrow()\n",
        "s.fly()  # Sparrow flies high\n",
        "\n",
        "p = Penguin()\n",
        "p.fly()  # Penguin cannot fly\n"
      ],
      "metadata": {
        "colab": {
          "base_uri": "https://localhost:8080/"
        },
        "id": "GJ-CBtbchKqn",
        "outputId": "f67a06dc-af7a-4502-cf1d-b3982c775bdd"
      },
      "execution_count": 4,
      "outputs": [
        {
          "output_type": "stream",
          "name": "stdout",
          "text": [
            "Bird is flying\n",
            "Sparrow flies high\n",
            "Penguin cannot fly\n"
          ]
        }
      ]
    },
    {
      "cell_type": "code",
      "source": [
        "# 5. Write a program to demonstrate encapsulation by creating a class BankAccount\n",
        "#    with private attributes balance and methods to deposit, withdraw, and check balance.\n",
        "class BankAccount:\n",
        "    def __init__(self, balance=0):\n",
        "        self.__balance = balance\n",
        "\n",
        "    def deposit(self, amount):\n",
        "        self.__balance += amount\n",
        "\n",
        "    def withdraw(self, amount):\n",
        "        if amount <= self.__balance:\n",
        "            self.__balance -= amount\n",
        "        else:\n",
        "            print(\"Insufficient funds\")\n",
        "\n",
        "    def get_balance(self):\n",
        "        return self.__balance\n",
        "\n",
        "acc = BankAccount()\n",
        "acc.deposit(1000)\n",
        "print(acc.get_balance())  # Output: 1000\n",
        "acc.withdraw(500)\n",
        "print(acc.get_balance())  # Output: 500\n"
      ],
      "metadata": {
        "colab": {
          "base_uri": "https://localhost:8080/"
        },
        "id": "NecED-v8hNHK",
        "outputId": "8533aa34-25e3-46c2-ecf4-1ba4e3398f19"
      },
      "execution_count": 5,
      "outputs": [
        {
          "output_type": "stream",
          "name": "stdout",
          "text": [
            "1000\n",
            "500\n"
          ]
        }
      ]
    },
    {
      "cell_type": "code",
      "source": [
        "# 6. Demonstrate runtime polymorphism using a method play() in a base class Instrument.\n",
        "#    Derive classes Guitar and Piano that implement their own version of play().\n",
        "class Instrument:\n",
        "    def play(self):\n",
        "        print(\"Playing an instrument\")\n",
        "\n",
        "class Guitar(Instrument):\n",
        "    def play(self):\n",
        "        print(\"Strumming the guitar\")\n",
        "\n",
        "class Piano(Instrument):\n",
        "    def play(self):\n",
        "        print(\"Playing the piano\")\n",
        "\n",
        "i = Instrument()\n",
        "i.play()  # Playing an instrument\n",
        "\n",
        "g = Guitar()\n",
        "g.play()  # Strumming the guitar\n",
        "\n",
        "p = Piano()\n",
        "p.play()  # Playing the piano\n"
      ],
      "metadata": {
        "colab": {
          "base_uri": "https://localhost:8080/"
        },
        "id": "zyNp1guPhPnB",
        "outputId": "6ebee356-398a-4057-9b92-b789c4762a90"
      },
      "execution_count": 6,
      "outputs": [
        {
          "output_type": "stream",
          "name": "stdout",
          "text": [
            "Playing an instrument\n",
            "Strumming the guitar\n",
            "Playing the piano\n"
          ]
        }
      ]
    },
    {
      "cell_type": "code",
      "source": [
        "7 # Create a class MathOperations with a class method add_numbers() to add two numbers\n",
        "# and a static method subtract_numbers() to subtract two numbers.\n",
        "\n",
        "class MathOperations:\n",
        "    @classmethod\n",
        "    def add_numbers(cls, a, b):\n",
        "        return a + b\n",
        "\n",
        "    @staticmethod\n",
        "    def subtract_numbers(a, b):\n",
        "        return a - b\n",
        "\n",
        "# Example usage:\n",
        "sum_result = MathOperations.add_numbers(10, 5)\n",
        "print(f\"Sum: {sum_result}\")  # Output: Sum: 15\n",
        "\n",
        "sub_result = MathOperations.subtract_numbers(10, 5)\n",
        "print(f\"Difference: {sub_result}\")  # Output: Difference: 5\n"
      ],
      "metadata": {
        "colab": {
          "base_uri": "https://localhost:8080/"
        },
        "id": "QfJWb-5ohaJX",
        "outputId": "6062a6cc-f707-45aa-e848-9cd31354824b"
      },
      "execution_count": 17,
      "outputs": [
        {
          "output_type": "stream",
          "name": "stdout",
          "text": [
            "Sum: 15\n",
            "Difference: 5\n"
          ]
        }
      ]
    },
    {
      "cell_type": "code",
      "source": [
        "# 8. Create a class MathOperations with a class method add_numbers() to add two numbers\n",
        "#    and a static method subtract_numbers() to subtract two numbers.\n",
        "class MathOperations:\n",
        "    @classmethod\n",
        "    def add_numbers(cls, a, b):\n",
        "        return a + b\n",
        "\n",
        "    @staticmethod\n",
        "    def subtract_numbers(a, b):\n",
        "        return a - b\n",
        "\n",
        "print(MathOperations.add_numbers(10, 5))       # Output: 15\n",
        "print(MathOperations.subtract_numbers(10, 5))  # Output: 5\n"
      ],
      "metadata": {
        "colab": {
          "base_uri": "https://localhost:8080/"
        },
        "id": "-dyrCj-vi6Mp",
        "outputId": "0c104df8-d4d9-4c11-88ca-9a642ec5b2c1"
      },
      "execution_count": 18,
      "outputs": [
        {
          "output_type": "stream",
          "name": "stdout",
          "text": [
            "15\n",
            "5\n"
          ]
        }
      ]
    },
    {
      "cell_type": "code",
      "source": [
        "# 9. Implement a class Person with a class method to count the total number of persons created.\n",
        "class Person:\n",
        "    count = 0\n",
        "\n",
        "    def __init__(self, name):\n",
        "        self.name = name\n",
        "        Person.count += 1\n",
        "\n",
        "    @classmethod\n",
        "    def total_persons(cls):\n",
        "        return cls.count\n",
        "\n",
        "p1 = Person(\"Alice\")\n",
        "p2 = Person(\"Bob\")\n",
        "print(Person.total_persons())  # Output: 2\n"
      ],
      "metadata": {
        "colab": {
          "base_uri": "https://localhost:8080/"
        },
        "id": "n_TOSel1iB8z",
        "outputId": "35379f56-561b-4c76-8a3d-1761e5cabcc2"
      },
      "execution_count": 15,
      "outputs": [
        {
          "output_type": "stream",
          "name": "stdout",
          "text": [
            "2\n"
          ]
        }
      ]
    },
    {
      "cell_type": "code",
      "source": [
        "# 10. Write a class Fraction with attributes numerator and denominator.\n",
        "#     Override the str method to display the fraction as \"numerator/denominator\".\n",
        "class Fraction:\n",
        "    def __init__(self, numerator, denominator):\n",
        "        self.numerator = numerator\n",
        "        self.denominator = denominator\n",
        "\n",
        "    def __str__(self):\n",
        "        return f\"{self.numerator}/{self.denominator}\"\n",
        "\n",
        "\n",
        "f = Fraction(3, 4)\n",
        "print(f)  # Output: 3/4\n"
      ],
      "metadata": {
        "colab": {
          "base_uri": "https://localhost:8080/"
        },
        "id": "YpF8CEo2iB5W",
        "outputId": "38f0e721-47c1-4bb2-ffe2-9f239eb4c613"
      },
      "execution_count": 14,
      "outputs": [
        {
          "output_type": "stream",
          "name": "stdout",
          "text": [
            "3/4\n"
          ]
        }
      ]
    },
    {
      "cell_type": "code",
      "source": [
        "# 11. Demonstrate operator overloading by creating a class Vector and overriding\n",
        "#     the add method to add two vectors.\n",
        "class Vector:\n",
        "    def __init__(self, x, y):\n",
        "        self.x = x\n",
        "        self.y = y\n",
        "\n",
        "    def __add__(self, other):\n",
        "        return Vector(self.x + other.x, self.y + other.y)\n",
        "\n",
        "    def __str__(self):\n",
        "        return f\"({self.x}, {self.y})\"\n",
        "\n",
        "v1 = Vector(2, 3)\n",
        "v2 = Vector(4, 5)\n",
        "v3 = v1 + v2\n",
        "print(v3)  # Output: (6, 8)\n"
      ],
      "metadata": {
        "colab": {
          "base_uri": "https://localhost:8080/"
        },
        "id": "RYRdr6nbiB18",
        "outputId": "fba9ba99-9a5a-4378-d126-3e28dc0f9ada"
      },
      "execution_count": 13,
      "outputs": [
        {
          "output_type": "stream",
          "name": "stdout",
          "text": [
            "(6, 8)\n"
          ]
        }
      ]
    },
    {
      "cell_type": "code",
      "source": [
        "# 12. Create a class Person with attributes name and age.\n",
        "#     Add a method greet() that prints \"Hello, my name is {name} and I am {age} years old.\"\n",
        "class Person:\n",
        "    def __init__(self, name, age):\n",
        "        self.name = name\n",
        "        self.age = age\n",
        "\n",
        "    def greet(self):\n",
        "        print(f\"Hello, my name is {self.name} and I am {self.age} years old.\")\n",
        "\n",
        "p = Person(\"John\", 30)\n",
        "p.greet()\n",
        "# Output: Hello, my name is John and I am 30 years old.\n"
      ],
      "metadata": {
        "colab": {
          "base_uri": "https://localhost:8080/"
        },
        "id": "5B2xBxqriByJ",
        "outputId": "50a4cc56-1a50-40d3-b025-377a7f731f26"
      },
      "execution_count": 12,
      "outputs": [
        {
          "output_type": "stream",
          "name": "stdout",
          "text": [
            "Hello, my name is John and I am 30 years old.\n"
          ]
        }
      ]
    },
    {
      "cell_type": "code",
      "source": [
        "# 13. Implement a class Student with attributes name and grades.\n",
        "#     Create a method average_grade() to compute the average of the grades.\n",
        "class Student:\n",
        "    def __init__(self, name, grades):\n",
        "        self.name = name\n",
        "        self.grades = grades\n",
        "\n",
        "    def average_grade(self):\n",
        "        return sum(self.grades) / len(self.grades)\n",
        "\n",
        "s = Student(\"Sara\", [85, 90, 95])\n",
        "print(s.average_grade())  # Output: 90.0\n"
      ],
      "metadata": {
        "colab": {
          "base_uri": "https://localhost:8080/"
        },
        "id": "k0XSodppiBsH",
        "outputId": "88ff304d-7635-4a3f-807f-7ce9c83b0f23"
      },
      "execution_count": 11,
      "outputs": [
        {
          "output_type": "stream",
          "name": "stdout",
          "text": [
            "90.0\n"
          ]
        }
      ]
    },
    {
      "cell_type": "code",
      "source": [
        "# 14. Create a class Rectangle with methods set_dimensions() to set the dimensions\n",
        "#     and area() to calculate the area.\n",
        "class Rectangle:\n",
        "    def set_dimensions(self, length, width):\n",
        "        self.length = length\n",
        "        self.width = width\n",
        "\n",
        "    def area(self):\n",
        "        return self.length * self.width\n",
        "\n",
        "r = Rectangle()\n",
        "r.set_dimensions(4, 5)\n",
        "print(r.area())  # Output: 20\n"
      ],
      "metadata": {
        "colab": {
          "base_uri": "https://localhost:8080/"
        },
        "id": "GwzPGqndiBou",
        "outputId": "2946c31b-9f79-4815-97e0-9be5b05b0491"
      },
      "execution_count": 10,
      "outputs": [
        {
          "output_type": "stream",
          "name": "stdout",
          "text": [
            "20\n"
          ]
        }
      ]
    },
    {
      "cell_type": "code",
      "source": [
        "# 15. Create a class Employee with a method calculate_salary() that computes the salary\n",
        "#     based on hours worked and hourly rate. Create a derived class Manager that adds a bonus to the salary.\n",
        "class Employee:\n",
        "    def calculate_salary(self, hours_worked, hourly_rate):\n",
        "        return hours_worked * hourly_rate\n",
        "\n",
        "class Manager(Employee):\n",
        "    def calculate_salary(self, hours_worked, hourly_rate, bonus):\n",
        "        base_salary = super().calculate_salary(hours_worked, hourly_rate)\n",
        "        return base_salary + bonus\n",
        "\n",
        "e = Employee()\n",
        "print(e.calculate_salary(40, 20))  # Output: 800\n",
        "\n",
        "m = Manager()\n",
        "print(m.calculate_salary(40, 20, 200))  # Output: 1000\n"
      ],
      "metadata": {
        "colab": {
          "base_uri": "https://localhost:8080/"
        },
        "id": "a7kPlMMLiBj3",
        "outputId": "10bde2e2-eb82-4d41-c0f9-22590af10bcb"
      },
      "execution_count": 9,
      "outputs": [
        {
          "output_type": "stream",
          "name": "stdout",
          "text": [
            "800\n",
            "1000\n"
          ]
        }
      ]
    },
    {
      "cell_type": "code",
      "source": [
        "# 16. Create a class Animal with an abstract method sound().\n",
        "#     Create two derived classes Cow and Sheep that implement the sound() method.\n",
        "from abc import ABC, abstractmethod\n",
        "\n",
        "class Animal(ABC):\n",
        "    @abstractmethod\n",
        "    def sound(self):\n",
        "        pass\n",
        "\n",
        "class Cow(Animal):\n",
        "    def sound(self):\n",
        "        print(\"Moo\")\n",
        "\n",
        "class Sheep(Animal):\n",
        "    def sound(self):\n",
        "        print(\"Baa\")\n",
        "\n",
        "c = Cow()\n",
        "c.sound()  # Output: Moo\n",
        "\n",
        "s = Sheep()\n",
        "s.sound()  # Output: Baa\n"
      ],
      "metadata": {
        "colab": {
          "base_uri": "https://localhost:8080/"
        },
        "id": "MUH-ey-hiBgw",
        "outputId": "69406b76-c263-4877-8ca1-736cc7f7d0c2"
      },
      "execution_count": 19,
      "outputs": [
        {
          "output_type": "stream",
          "name": "stdout",
          "text": [
            "Moo\n",
            "Baa\n"
          ]
        }
      ]
    },
    {
      "cell_type": "code",
      "source": [
        "# 17. Create a class Book with attributes title, author, and year_published.\n",
        "#     Add a method get_book_info() that returns a formatted string with the book's details.\n",
        "class Book:\n",
        "    def __init__(self, title, author, year_published):\n",
        "        self.title = title\n",
        "        self.author = author\n",
        "        self.year_published = year_published\n",
        "\n",
        "    def get_book_info(self):\n",
        "        return f\"'{self.title}' by {self.author} ({self.year_published})\"\n",
        "\n",
        "b = Book(\"The Great Gatsby\", \"F. Scott Fitzgerald\", 1925)\n",
        "print(b.get_book_info())\n",
        "# Output: 'The Great Gatsby' by F. Scott Fitzgerald (1925)\n"
      ],
      "metadata": {
        "colab": {
          "base_uri": "https://localhost:8080/"
        },
        "id": "KUX_tvKJiBdy",
        "outputId": "0a96d25a-131a-444f-baa8-d62c551818f8"
      },
      "execution_count": 20,
      "outputs": [
        {
          "output_type": "stream",
          "name": "stdout",
          "text": [
            "'The Great Gatsby' by F. Scott Fitzgerald (1925)\n"
          ]
        }
      ]
    },
    {
      "cell_type": "code",
      "source": [
        "# 18. Create a class House with attributes address and price.\n",
        "#     Create a derived class Mansion that adds an attribute number_of_rooms.\n",
        "class House:\n",
        "    def __init__(self, address, price):\n",
        "        self.address = address\n",
        "        self.price = price\n",
        "\n",
        "class Mansion(House):\n",
        "    def __init__(self, address, price, number_of_rooms):\n",
        "        super().__init__(address, price)\n",
        "        self.number_of_rooms = number_of_rooms\n",
        "\n",
        "m = Mansion(\"123 Main St\", 5000000, 10)\n",
        "print(m.address, m.price, m.number_of_rooms)\n",
        "# Output: 123 Main St 5000000 10\n"
      ],
      "metadata": {
        "colab": {
          "base_uri": "https://localhost:8080/"
        },
        "id": "EcSxCegiiBae",
        "outputId": "f605eb0c-4d2c-4e1a-c704-a02d8874d960"
      },
      "execution_count": 21,
      "outputs": [
        {
          "output_type": "stream",
          "name": "stdout",
          "text": [
            "123 Main St 5000000 10\n"
          ]
        }
      ]
    }
  ]
}